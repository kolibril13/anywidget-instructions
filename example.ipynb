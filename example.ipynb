{
	"cells": [
		{
			"cell_type": "code",
			"execution_count": 1,
			"metadata": {},
			"outputs": [
				{
					"name": "stdout",
					"output_type": "stream",
					"text": [
						"env: ANYWIDGET_HMR=1\n"
					]
				}
			],
			"source": [
				"%env ANYWIDGET_HMR=1"
			]
		},
		{
			"cell_type": "code",
			"execution_count": 2,
			"metadata": {},
			"outputs": [],
			"source": [
				"import pathlib\n",
				"\n",
				"import anywidget\n",
				"import traitlets\n",
				"\n",
				"\n",
				"\n",
				"class Counter(anywidget.AnyWidget):\n",
				"    _esm =  \"./src/anywidget_instructions/static/widget.js\"\n",
				"    _css =  \"./src/anywidget_instructions/static/widget.css\"\n",
				"\n",
				"    value = traitlets.Int(0).tag(sync=True)\n"
			]
		},
		{
			"cell_type": "code",
			"execution_count": 3,
			"metadata": {},
			"outputs": [
				{
					"data": {
						"application/vnd.jupyter.widget-view+json": {
							"model_id": "2111f1b1a4be40989dae22e47a4aa20b",
							"version_major": 2,
							"version_minor": 0
						},
						"text/plain": [
							"Counter()"
						]
					},
					"execution_count": 3,
					"metadata": {},
					"output_type": "execute_result"
				}
			],
			"source": [
				"from anywidget_instructions import Counter\n",
				"Counter()"
			]
		},
		{
			"cell_type": "code",
			"execution_count": null,
			"metadata": {},
			"outputs": [],
			"source": []
		}
	],
	"metadata": {
		"kernelspec": {
			"display_name": ".venv",
			"language": "python",
			"name": "python3"
		},
		"language_info": {
			"codemirror_mode": {
				"name": "ipython",
				"version": 3
			},
			"file_extension": ".py",
			"mimetype": "text/x-python",
			"name": "python",
			"nbconvert_exporter": "python",
			"pygments_lexer": "ipython3",
			"version": "3.11.8"
		}
	},
	"nbformat": 4,
	"nbformat_minor": 2
}
