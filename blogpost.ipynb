{
 "cells": [
  {
   "cell_type": "markdown",
   "metadata": {},
   "source": [
    "# Ipyniivue\n",
    "\n",
    "First approach:\n",
    "Using the send syntax:\n"
   ]
  },
  {
   "cell_type": "code",
   "execution_count": null,
   "metadata": {},
   "outputs": [],
   "source": [
    "import anywidget\n",
    "import pathlib\n",
    "\n",
    "class AnyNiivue(anywidget.AnyWidget):\n",
    "    path_root = pathlib.Path.cwd()\n",
    "    _esm = \"\"\"\n",
    "    import { Niivue } from \"https://esm.sh/@niivue/niivue\";\n",
    "\n",
    "    async function render({ model, el }) {\n",
    "      let canvas = document.createElement(\"canvas\");\n",
    "      let container = document.createElement(\"div\");\n",
    "      container.style.height = \"300px\";\n",
    "      container.appendChild(canvas);\n",
    "      el.appendChild(container);\n",
    "      let nv = new Niivue();\n",
    "      nv.attachToCanvas(canvas);\n",
    "\n",
    "      nv.loadVolumes([\n",
    "        { url: \"https://niivue.github.io/niivue-demo-images/mni152.nii.gz\" },\n",
    "      ]);\n",
    "    }\n",
    "    export default { render };\n",
    "\"\"\"\n",
    "\n",
    "nv1 = AnyNiivue()\n",
    "nv1"
   ]
  },
  {
   "cell_type": "code",
   "execution_count": null,
   "metadata": {},
   "outputs": [],
   "source": [
    "HMR\n",
    "\n",
    "%env ANYWIDGET_HMR=1\n",
    "\n",
    "import anywidget \n",
    "import pathlib\n",
    "import traitlets\n",
    "\n",
    "\n",
    "\n",
    "class TestingHMR(anywidget.AnyWidget):\n",
    "  path_root = pathlib.Path.cwd()\n",
    "  _esm = path_root / \"src\" / \"ipyniivue_experimental\"/ \"static\" / \"hmr.js\"\n",
    "  opacity = traitlets.Float(1.0).tag(sync=True)\n",
    "\n",
    "TestingHMR()\n",
    "\n",
    "\n",
    "\n",
    "```\n",
    "function render({ model, el }) {\n",
    "  let text = \"Hello World and Goodbye\"\n",
    "  console.log(text);\n",
    "  el.textContent = text\n",
    "}\n",
    "\n",
    "export default { render };\n",
    "```"
   ]
  }
 ],
 "metadata": {
  "kernelspec": {
   "display_name": ".venv",
   "language": "python",
   "name": "python3"
  },
  "language_info": {
   "codemirror_mode": {
    "name": "ipython",
    "version": 3
   },
   "file_extension": ".py",
   "mimetype": "text/x-python",
   "name": "python",
   "nbconvert_exporter": "python",
   "pygments_lexer": "ipython3",
   "version": "3.11.7"
  }
 },
 "nbformat": 4,
 "nbformat_minor": 2
}
