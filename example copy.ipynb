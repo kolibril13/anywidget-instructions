{
 "cells": [
  {
   "cell_type": "code",
   "execution_count": 2,
   "id": "9cf5072a-d125-498e-ba94-0b22c5af7d83",
   "metadata": {},
   "outputs": [],
   "source": [
    "import anywidget\n",
    "import traitlets\n",
    "\n",
    "class Counter(anywidget.AnyWidget):\n",
    "    _esm = \"widget.js\"\n",
    "    _css = \"widget.css\"\n",
    "\n",
    "    _msg = traitlets.Unicode(\"Hello World\").tag(sync=True)\n",
    "\n",
    "    def set_message(self, new_value):\n",
    "      self._msg = new_value\n",
    "\n",
    "\n",
    "c = Counter()"
   ]
  },
  {
   "cell_type": "code",
   "execution_count": 3,
   "id": "08a8a976-3c02-479b-b077-8a14e4eccce6",
   "metadata": {},
   "outputs": [
    {
     "data": {
      "application/vnd.jupyter.widget-view+json": {
       "model_id": "71e5884beccb413ab17709e308661ac8",
       "version_major": 2,
       "version_minor": 0
      },
      "text/plain": [
       "Counter()"
      ]
     },
     "execution_count": 3,
     "metadata": {},
     "output_type": "execute_result"
    }
   ],
   "source": [
    "c"
   ]
  },
  {
   "cell_type": "code",
   "execution_count": 4,
   "id": "47c95bad-f563-4370-bde7-fa6745970177",
   "metadata": {},
   "outputs": [],
   "source": [
    "c.set_message(\"Goodbye!!\")"
   ]
  },
  {
   "cell_type": "code",
   "execution_count": 5,
   "id": "a9179133-f0bb-4e63-9557-bd1f69de67b5",
   "metadata": {},
   "outputs": [
    {
     "data": {
      "application/vnd.jupyter.widget-view+json": {
       "model_id": "71e5884beccb413ab17709e308661ac8",
       "version_major": 2,
       "version_minor": 0
      },
      "text/plain": [
       "Counter()"
      ]
     },
     "execution_count": 5,
     "metadata": {},
     "output_type": "execute_result"
    }
   ],
   "source": [
    "c"
   ]
  },
  {
   "cell_type": "code",
   "execution_count": null,
   "id": "2071af4e-49be-4afa-957f-7faa751eb8ed",
   "metadata": {},
   "outputs": [],
   "source": []
  }
 ],
 "metadata": {
  "kernelspec": {
   "display_name": "Python 3 (ipykernel)",
   "language": "python",
   "name": "python3"
  },
  "language_info": {
   "codemirror_mode": {
    "name": "ipython",
    "version": 3
   },
   "file_extension": ".py",
   "mimetype": "text/x-python",
   "name": "python",
   "nbconvert_exporter": "python",
   "pygments_lexer": "ipython3",
   "version": "3.11.9"
  },
  "widgets": {
   "application/vnd.jupyter.widget-state+json": {
    "state": {
     "112982b981574ffdbd686b4be35ee6d1": {
      "model_module": "anywidget",
      "model_module_version": "0.9.3",
      "model_name": "AnyModel",
      "state": {
       "_anywidget_id": "__main__.Counter",
       "_css": ".hello-button {\n\tbackground: linear-gradient(\n\t\t90deg,\n\t\t#9933ff 33.26%,\n\t\t#ff6666 46.51%,\n\t\t#faca30 59.77%,\n\t\t#00cd99 73.03%,\n\t\t#00ccff 86.29%\n\t);\n\tborder-radius: 10px;\n\tborder: 0;\n\tcolor: white;\n\tcursor: pointer;\n\tfont-family: \"Roboto\", sans-serif;\n\tfont-size: 2em;\n\tmargin: 10px;\n\tpadding: 10px 20px;\n\ttransition: transform 0.25s ease-in-out;\n}\n\n.anywidget_instructions-counter-button:hover {\n\ttransform: scale(1.05);\n}\n",
       "_esm": "function render({ model, el }) {\n  let btn = document.createElement(\"button\");\n  el.appendChild(btn);\n  let msg = model.get(\"_msg\");\n  btn.innerHTML = `Message is: ${msg}`;\n  btn.classList.add(\"hello-button\");;\n\n // model.on(\"msg:custom\", (msg) => {\n //   btn.innerHTML = `Message is: ${msg}`;\n // });\n\n\n\n  model.on(\"change:_msg\", () => {\n    let msg = model.get(\"_msg\");\n    btn.innerHTML = `Message is: ${msg}`;\n  });\n}\nexport default { render };",
       "_model_module": "anywidget",
       "_model_module_version": "0.9.3",
       "_model_name": "AnyModel",
       "_msg": "Goodbye!!",
       "_view_module": "anywidget",
       "_view_module_version": "0.9.3",
       "_view_name": "AnyView",
       "layout": "IPY_MODEL_71b9e5e4d979485aa8ffa0cc4b00a566"
      }
     },
     "5b37c8b52d754e63ab14e49a87f36100": {
      "model_module": "@jupyter-widgets/base",
      "model_module_version": "2.0.0",
      "model_name": "LayoutModel",
      "state": {}
     },
     "71b9e5e4d979485aa8ffa0cc4b00a566": {
      "model_module": "@jupyter-widgets/base",
      "model_module_version": "2.0.0",
      "model_name": "LayoutModel",
      "state": {}
     },
     "aba5e74b3bb54339b4c3dc55e3330553": {
      "model_module": "anywidget",
      "model_module_version": "0.9.3",
      "model_name": "AnyModel",
      "state": {
       "_anywidget_id": "__main__.Counter",
       "_css": ".hello-button {\n\tbackground: linear-gradient(\n\t\t90deg,\n\t\t#9933ff 33.26%,\n\t\t#ff6666 46.51%,\n\t\t#faca30 59.77%,\n\t\t#00cd99 73.03%,\n\t\t#00ccff 86.29%\n\t);\n\tborder-radius: 10px;\n\tborder: 0;\n\tcolor: white;\n\tcursor: pointer;\n\tfont-family: \"Roboto\", sans-serif;\n\tfont-size: 2em;\n\tmargin: 10px;\n\tpadding: 10px 20px;\n\ttransition: transform 0.25s ease-in-out;\n}\n\n.anywidget_instructions-counter-button:hover {\n\ttransform: scale(1.05);\n}\n",
       "_esm": "function render({ model, el }) {\n  let btn = document.createElement(\"button\");\n  el.appendChild(btn);\n  let msg = model.get(\"_msg\");\n  btn.innerHTML = `Message is: ${msg}`;\n  btn.classList.add(\"hello-button\");;\n\n // model.on(\"msg:custom\", (msg) => {\n //   btn.innerHTML = `Message is: ${msg}`;\n // });\n\n\n\n  model.on(\"change:_msg\", () => {\n    let msg = model.get(\"_msg\");\n    btn.innerHTML = `Message is: ${msg}`;\n  });\n}\nexport default { render };",
       "_model_module": "anywidget",
       "_model_module_version": "0.9.3",
       "_model_name": "AnyModel",
       "_msg": "Goodbye!!",
       "_view_module": "anywidget",
       "_view_module_version": "0.9.3",
       "_view_name": "AnyView",
       "layout": "IPY_MODEL_5b37c8b52d754e63ab14e49a87f36100"
      }
     }
    },
    "version_major": 2,
    "version_minor": 0
   }
  }
 },
 "nbformat": 4,
 "nbformat_minor": 5
}
